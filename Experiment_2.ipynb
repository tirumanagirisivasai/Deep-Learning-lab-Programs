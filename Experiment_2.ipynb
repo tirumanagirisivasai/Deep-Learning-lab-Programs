{
  "nbformat": 4,
  "nbformat_minor": 0,
  "metadata": {
    "colab": {
      "provenance": [],
      "authorship_tag": "ABX9TyPvpGx1Mv2hAg5EpEB1ct7I",
      "include_colab_link": true
    },
    "kernelspec": {
      "name": "python3",
      "display_name": "Python 3"
    },
    "language_info": {
      "name": "python"
    }
  },
  "cells": [
    {
      "cell_type": "markdown",
      "metadata": {
        "id": "view-in-github",
        "colab_type": "text"
      },
      "source": [
        "<a href=\"https://colab.research.google.com/github/tirumanagirisivasai/Deep-Learning-lab-Programs/blob/main/Experiment_2.ipynb\" target=\"_parent\"><img src=\"https://colab.research.google.com/assets/colab-badge.svg\" alt=\"Open In Colab\"/></a>"
      ]
    },
    {
      "cell_type": "markdown",
      "source": [
        "#**AND-OR gates using Perceptron**#"
      ],
      "metadata": {
        "id": "IIAqIn0PFMKr"
      }
    },
    {
      "cell_type": "code",
      "execution_count": 18,
      "metadata": {
        "id": "cUdDrZwk_5jW"
      },
      "outputs": [],
      "source": [
        "import numpy as np\n",
        "\n",
        "def stepfunction(value):\n",
        "  return np.where(value>0,1,-1)"
      ]
    },
    {
      "cell_type": "code",
      "source": [
        "#Actual perceptron\n",
        "#Just call it by creating an object for Perceptron\n",
        "class Perceptron:\n",
        "  def __init__(self, l_rate, n_epochs):\n",
        "    self.epochs = n_epochs\n",
        "    self.rate = l_rate\n",
        "    self.weights = None\n",
        "    self.activ_function = stepfunction\n",
        "    self.bias = None\n",
        "\n",
        "  def train(self,X,Y):\n",
        "    n_samples, n_features = X.shape #returns (len_dataset, n_features)\n",
        "    self.weights = np.random.rand(1,n_features)\n",
        "    self.bias = 0\n",
        "    labels_input = np.where(Y>0,1,-1)\n",
        "    for _ in range(self.epochs):\n",
        "      for idx,x_i in enumerate(X):\n",
        "        linear_output = np.dot(x_i, self.weights.T)+self.bias\n",
        "        y_pred = self.activ_function(linear_output)\n",
        "\n",
        "        #update the weights and bias\n",
        "        self.weights += (labels_input[idx] - y_pred)*self.rate*x_i\n",
        "        self.bias += (labels_input[idx] - y_pred)*self.rate\n",
        "    return self.weights\n",
        "  #for prediction of test data\n",
        "  def predict(self, test_data):\n",
        "    output = np.dot(test_data, self.weights.T) + self.bias\n",
        "    ypred = self.activ_function(output)\n",
        "    return ypred"
      ],
      "metadata": {
        "id": "c05iZuwnA8eX"
      },
      "execution_count": 19,
      "outputs": []
    },
    {
      "cell_type": "code",
      "source": [
        "# inputs for AND gate\n",
        "\n",
        "input_and = np.array([[1,1],[1,-1],[-1,1], [-1,-1]])\n",
        "labels_and = np.array([1,-1,-1,-1])\n",
        "\n",
        "#inputs for OR gate\n",
        "input_or = np.array([[1,1],[1,-1],[-1,1], [-1,-1]])\n",
        "labels_or = np.array([1,1,1,-1])"
      ],
      "metadata": {
        "id": "YBu9k8A-W1jR"
      },
      "execution_count": 20,
      "outputs": []
    },
    {
      "cell_type": "code",
      "source": [
        "print(input_or.shape)\n",
        "print(input_and.shape)"
      ],
      "metadata": {
        "colab": {
          "base_uri": "https://localhost:8080/"
        },
        "id": "QkhqwoCyaddp",
        "outputId": "55ff922e-a60b-4394-a508-62566e2b54f1"
      },
      "execution_count": 21,
      "outputs": [
        {
          "output_type": "stream",
          "name": "stdout",
          "text": [
            "(4, 2)\n",
            "(4, 2)\n"
          ]
        }
      ]
    },
    {
      "cell_type": "code",
      "source": [
        "print(labels_or.shape)\n",
        "print(labels_and.shape)"
      ],
      "metadata": {
        "colab": {
          "base_uri": "https://localhost:8080/"
        },
        "id": "Q71z2m5jadVg",
        "outputId": "d58c21d6-466d-49fa-bda2-7c5d10b0befb"
      },
      "execution_count": 22,
      "outputs": [
        {
          "output_type": "stream",
          "name": "stdout",
          "text": [
            "(4,)\n",
            "(4,)\n"
          ]
        }
      ]
    },
    {
      "cell_type": "code",
      "source": [
        "model_and = Perceptron(l_rate=0.01, n_epochs=100)\n",
        "model_and.train(input_and, labels_and)"
      ],
      "metadata": {
        "colab": {
          "base_uri": "https://localhost:8080/"
        },
        "id": "_b2yr_cVXu7F",
        "outputId": "fe9f4593-b248-48bc-cae3-81b7770a4287"
      },
      "execution_count": 23,
      "outputs": [
        {
          "output_type": "execute_result",
          "data": {
            "text/plain": [
              "array([[0.15163494, 0.11859014]])"
            ]
          },
          "metadata": {},
          "execution_count": 23
        }
      ]
    },
    {
      "cell_type": "code",
      "source": [
        "#AND perceptron outputs validation\n",
        "ans_and = model_and.predict(input_and)\n",
        "for i in range(4):\n",
        "  print(f'Actual output = {ans_and[i]}')\n",
        "  print(f'Perceptron output = {labels_and[i]}')"
      ],
      "metadata": {
        "colab": {
          "base_uri": "https://localhost:8080/"
        },
        "id": "jpDBvL5KZBQN",
        "outputId": "e5d48cb4-2291-47cb-c5bf-9de590392543"
      },
      "execution_count": 24,
      "outputs": [
        {
          "output_type": "stream",
          "name": "stdout",
          "text": [
            "Actual output = [1]\n",
            "Perceptron output = 1\n",
            "Actual output = [-1]\n",
            "Perceptron output = -1\n",
            "Actual output = [-1]\n",
            "Perceptron output = -1\n",
            "Actual output = [-1]\n",
            "Perceptron output = -1\n"
          ]
        }
      ]
    },
    {
      "cell_type": "code",
      "source": [
        "model_or = Perceptron(l_rate=0.01, n_epochs=100)\n",
        "model_or.train(input_or, labels_or)"
      ],
      "metadata": {
        "id": "79sHgsrnbFMn",
        "colab": {
          "base_uri": "https://localhost:8080/"
        },
        "outputId": "04a1d475-3a10-480b-a308-1e294a43d7c7"
      },
      "execution_count": 25,
      "outputs": [
        {
          "output_type": "execute_result",
          "data": {
            "text/plain": [
              "array([[0.43155141, 0.55908532]])"
            ]
          },
          "metadata": {},
          "execution_count": 25
        }
      ]
    },
    {
      "cell_type": "code",
      "source": [
        "#OR perceptron outputs validation\n",
        "ans_or = model_or.predict(input_or)\n",
        "for i in range(4):\n",
        "  print(f'Actual output = {ans_or[i]}')\n",
        "  print(f'Perceptron output = {labels_or[i]}')"
      ],
      "metadata": {
        "colab": {
          "base_uri": "https://localhost:8080/"
        },
        "id": "iZnL1yUTE1j7",
        "outputId": "bb52df98-5fbe-453c-d062-bb95ff730c3a"
      },
      "execution_count": 26,
      "outputs": [
        {
          "output_type": "stream",
          "name": "stdout",
          "text": [
            "Actual output = [1]\n",
            "Perceptron output = 1\n",
            "Actual output = [1]\n",
            "Perceptron output = 1\n",
            "Actual output = [1]\n",
            "Perceptron output = 1\n",
            "Actual output = [-1]\n",
            "Perceptron output = -1\n"
          ]
        }
      ]
    }
  ]
}