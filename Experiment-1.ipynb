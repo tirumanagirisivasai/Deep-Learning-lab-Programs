{
  "nbformat": 4,
  "nbformat_minor": 0,
  "metadata": {
    "colab": {
      "provenance": [],
      "gpuType": "T4",
      "authorship_tag": "ABX9TyMY8TmUOP0we9h9SeqT76Qz",
      "include_colab_link": true
    },
    "kernelspec": {
      "name": "python3",
      "display_name": "Python 3"
    },
    "language_info": {
      "name": "python"
    },
    "accelerator": "GPU"
  },
  "cells": [
    {
      "cell_type": "markdown",
      "metadata": {
        "id": "view-in-github",
        "colab_type": "text"
      },
      "source": [
        "<a href=\"https://colab.research.google.com/github/tirumanagirisivasai/Deep-Learning-lab-Programs/blob/main/Experiment-1.ipynb\" target=\"_parent\"><img src=\"https://colab.research.google.com/assets/colab-badge.svg\" alt=\"Open In Colab\"/></a>"
      ]
    },
    {
      "cell_type": "code",
      "source": [
        "import numpy as np\n",
        "\n",
        "def stepfunction(value):\n",
        "  return np.where(value>0,1,0)"
      ],
      "metadata": {
        "id": "bMghYHqfuELd"
      },
      "execution_count": null,
      "outputs": []
    },
    {
      "cell_type": "code",
      "source": [
        "#Actual perceptron\n",
        "#Just call it by creating an object for Perceptron\n",
        "class Perceptron:\n",
        "  def __init__(self, l_rate, n_epochs):\n",
        "    self.epochs = n_epochs\n",
        "    self.rate = l_rate\n",
        "    self.weights = None\n",
        "    self.activ_function = stepfunction\n",
        "    self.bias = None\n",
        "\n",
        "  def train(self,X,Y):\n",
        "    n_samples, n_features = X.shape #returns (len_dataset, n_features)\n",
        "    self.weights = np.random.rand(1,n_features)\n",
        "    self.bias = 0\n",
        "    labels_input = np.where(Y>0,1,0)\n",
        "    for _ in range(self.epochs):\n",
        "      for idx,x_i in enumerate(X):\n",
        "        linear_output = np.dot(x_i, self.weights.T)+self.bias\n",
        "        y_pred = self.activ_function(linear_output)\n",
        "\n",
        "        #update the weights and bias\n",
        "        self.weights += (labels_input[idx] - y_pred)*self.rate*x_i\n",
        "        self.bias += (labels_input[idx] - y_pred)*self.rate\n",
        "    return self.weights\n",
        "  #for prediction of test data\n",
        "  def predict(self, test_data):\n",
        "    output = np.dot(test_data, self.weights.T) + self.bias\n",
        "    ypred = self.activ_function(output)\n",
        "    return ypred"
      ],
      "metadata": {
        "id": "qd2oE3y2uIMN"
      },
      "execution_count": null,
      "outputs": []
    },
    {
      "cell_type": "code",
      "source": [
        "#test the perceptron\n",
        "data = []\n",
        "for _ in range(100):\n",
        "  temp = np.random.rand(5)\n",
        "  data.append(temp)\n",
        "input_data = np.array(data)\n",
        "input_labels = np.round(np.random.rand(100))"
      ],
      "metadata": {
        "id": "Dd0O2AyOxbfB"
      },
      "execution_count": null,
      "outputs": []
    },
    {
      "cell_type": "code",
      "source": [
        "#obj for class\n",
        "\n",
        "p = Perceptron(l_rate=0.03, n_epochs=10000)\n",
        "p.train(input_data, input_labels)\n",
        "\n",
        "#predicted = p.predict(test)"
      ],
      "metadata": {
        "colab": {
          "base_uri": "https://localhost:8080/"
        },
        "id": "W_rg3DpC15ag",
        "outputId": "b770c4c8-796a-4a3d-c342-9f60f617681c"
      },
      "execution_count": null,
      "outputs": [
        {
          "output_type": "execute_result",
          "data": {
            "text/plain": [
              "array([[ 0.04087021, -0.00393595, -0.01368104, -0.00365227,  0.06275034]])"
            ]
          },
          "metadata": {},
          "execution_count": 4
        }
      ]
    },
    {
      "cell_type": "code",
      "source": [
        "predicted_labels = p.predict(np.array(input_data[:50,:]))"
      ],
      "metadata": {
        "id": "w3Gslq_J3qx3"
      },
      "execution_count": null,
      "outputs": []
    },
    {
      "cell_type": "code",
      "source": [
        "\n",
        "print(f'Predicted labels: {predicted_labels}')\n",
        "print(f'Actual labels: {input_labels[:50]}')"
      ],
      "metadata": {
        "colab": {
          "base_uri": "https://localhost:8080/"
        },
        "id": "El_LxjLZ33pX",
        "outputId": "90c7cbf2-6185-4943-abc7-474bf5925594"
      },
      "execution_count": null,
      "outputs": [
        {
          "output_type": "stream",
          "name": "stdout",
          "text": [
            "Predicted labels: [[1]\n",
            " [1]\n",
            " [1]\n",
            " [1]\n",
            " [0]\n",
            " [1]\n",
            " [1]\n",
            " [1]\n",
            " [1]\n",
            " [1]\n",
            " [1]\n",
            " [0]\n",
            " [1]\n",
            " [1]\n",
            " [0]\n",
            " [0]\n",
            " [1]\n",
            " [1]\n",
            " [0]\n",
            " [0]\n",
            " [1]\n",
            " [1]\n",
            " [1]\n",
            " [1]\n",
            " [1]\n",
            " [0]\n",
            " [1]\n",
            " [1]\n",
            " [1]\n",
            " [1]\n",
            " [0]\n",
            " [1]\n",
            " [0]\n",
            " [1]\n",
            " [1]\n",
            " [0]\n",
            " [1]\n",
            " [0]\n",
            " [1]\n",
            " [1]\n",
            " [1]\n",
            " [0]\n",
            " [1]\n",
            " [0]\n",
            " [1]\n",
            " [1]\n",
            " [1]\n",
            " [1]\n",
            " [1]\n",
            " [0]]\n",
            "Actual labels: [1. 0. 1. 0. 1. 1. 1. 1. 0. 0. 1. 1. 1. 0. 0. 1. 0. 0. 0. 0. 0. 1. 0. 1.\n",
            " 1. 1. 1. 1. 0. 1. 0. 0. 0. 1. 1. 0. 1. 1. 0. 1. 1. 0. 0. 0. 0. 1. 0. 0.\n",
            " 0. 1.]\n"
          ]
        }
      ]
    },
    {
      "cell_type": "code",
      "source": [
        "import matplotlib.pyplot as plt\n",
        "\n",
        "fig = plt.figure()\n",
        "ax = fig.add_subplot(1,1,1)\n",
        "plt.scatter(input_labels)"
      ],
      "metadata": {
        "colab": {
          "base_uri": "https://localhost:8080/"
        },
        "id": "MJJu5kX-tNFB",
        "outputId": "1139fed0-3f06-41d2-de73-069109f7bc04"
      },
      "execution_count": null,
      "outputs": [
        {
          "output_type": "stream",
          "name": "stdout",
          "text": [
            "[0.93885944 0.18426981 0.91249302 0.68883415 0.83347031]\n"
          ]
        }
      ]
    }
  ]
}