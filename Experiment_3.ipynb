{
  "nbformat": 4,
  "nbformat_minor": 0,
  "metadata": {
    "colab": {
      "provenance": [],
      "authorship_tag": "ABX9TyNk+js6McEfyKOTX/yEkV/Z",
      "include_colab_link": true
    },
    "kernelspec": {
      "name": "python3",
      "display_name": "Python 3"
    },
    "language_info": {
      "name": "python"
    }
  },
  "cells": [
    {
      "cell_type": "markdown",
      "metadata": {
        "id": "view-in-github",
        "colab_type": "text"
      },
      "source": [
        "<a href=\"https://colab.research.google.com/github/tirumanagirisivasai/Deep-Learning-lab-Programs/blob/main/Experiment_3.ipynb\" target=\"_parent\"><img src=\"https://colab.research.google.com/assets/colab-badge.svg\" alt=\"Open In Colab\"/></a>"
      ]
    },
    {
      "cell_type": "markdown",
      "source": [
        "#Experiment-3\n",
        "**Simple Neural Network**"
      ],
      "metadata": {
        "id": "z9TDyrv43h5f"
      }
    },
    {
      "cell_type": "code",
      "execution_count": 62,
      "metadata": {
        "id": "GcRCrcbfp-xl"
      },
      "outputs": [],
      "source": [
        "import numpy as np"
      ]
    },
    {
      "cell_type": "markdown",
      "source": [
        "**Weights equations**\n",
        "\n",
        "      \n",
        "\n",
        "        *   wi=wi+α∗(y−y′)∗xi\n",
        "        *   wi=wi+α∗(y−y′)∗y′∗(1−y′)∗xi  #***here [(y′∗(1−y′)) this is nothing but the derivative of sigmoid funtion]***\n",
        "\n"
      ],
      "metadata": {
        "id": "az7F9Qpe1cUr"
      }
    },
    {
      "cell_type": "code",
      "source": [
        "class SimpleNeuralNetwork():\n",
        "\n",
        "  #class constructor used to execute without calling explictly\n",
        "  def __init__(self, lrate=0.01, epochs=50):\n",
        "    self.rate = lrate\n",
        "    self.epochs = epochs\n",
        "    self.weights = None\n",
        "\n",
        "  def sigmoid(self, data):\n",
        "    return 1/(1+np.exp(-data))\n",
        "\n",
        "  def deri_sigmoid(self,x):\n",
        "    return x*(1-x)\n",
        "\n",
        "  #used to train the neural network\n",
        "  def fit(self, input_data, input_labels):\n",
        "    n_samples, n_features = input_data.shape\n",
        "    self.weights = np.random.rand(n_features,1)\n",
        "\n",
        "    for _ in range(self.epochs):\n",
        "      output = self.sigmoid(input_data.dot(self.weights))\n",
        "      predictions = input_labels - output\n",
        "\n",
        "      self.weights += (input_data.T).dot(predictions)*self.rate\n",
        "    return self.weights\n",
        "\n",
        "  #used to predict the labels\n",
        "  def predict(self, predict_data):\n",
        "    output = predict_data.dot(self.weights)\n",
        "    return self.sigmoid(output)"
      ],
      "metadata": {
        "id": "YEoS_XJWqHG-"
      },
      "execution_count": 78,
      "outputs": []
    },
    {
      "cell_type": "markdown",
      "source": [
        "##TRAINING THE NEURAL NETWORK"
      ],
      "metadata": {
        "id": "Zg-8XAZG31Xe"
      }
    },
    {
      "cell_type": "code",
      "source": [
        "training_set_inputs = np.array([[0, 0, 1], [1, 1, 1], [1, 0, 1], [0, 1, 1]])\n",
        "training_set_outputs = np.array([[0, 1, 1, 0]]).T\n",
        "\n",
        "P = SimpleNeuralNetwork(lrate=0.01, epochs=10000)\n",
        "\n",
        "P.fit(training_set_inputs, training_set_outputs)"
      ],
      "metadata": {
        "colab": {
          "base_uri": "https://localhost:8080/"
        },
        "id": "USZ0h_zcx7UX",
        "outputId": "21bfb209-efcf-4a9b-ceaf-2e3bd92f2043"
      },
      "execution_count": 79,
      "outputs": [
        {
          "output_type": "execute_result",
          "data": {
            "text/plain": [
              "array([[ 8.76946461],\n",
              "       [-0.41279042],\n",
              "       [-3.9723708 ]])"
            ]
          },
          "metadata": {},
          "execution_count": 79
        }
      ]
    },
    {
      "cell_type": "code",
      "source": [
        "#predictions\n",
        "print(np.where(P.predict(np.array([0, 0, 1]))[0]>0.5,1,0))"
      ],
      "metadata": {
        "colab": {
          "base_uri": "https://localhost:8080/"
        },
        "id": "Y20Yx33gysiA",
        "outputId": "3a926124-1dd3-41eb-ba56-bd851349c5b9"
      },
      "execution_count": 86,
      "outputs": [
        {
          "output_type": "stream",
          "name": "stdout",
          "text": [
            "0\n"
          ]
        }
      ]
    }
  ]
}