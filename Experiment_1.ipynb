{
  "nbformat": 4,
  "nbformat_minor": 0,
  "metadata": {
    "colab": {
      "provenance": [],
      "gpuType": "T4",
      "authorship_tag": "ABX9TyPGnI9XU1q/ey8Wp6/fDAJA",
      "include_colab_link": true
    },
    "kernelspec": {
      "name": "python3",
      "display_name": "Python 3"
    },
    "language_info": {
      "name": "python"
    },
    "accelerator": "GPU"
  },
  "cells": [
    {
      "cell_type": "markdown",
      "metadata": {
        "id": "view-in-github",
        "colab_type": "text"
      },
      "source": [
        "<a href=\"https://colab.research.google.com/github/tirumanagirisivasai/Deep-Learning-lab-Programs/blob/main/Experiment_1.ipynb\" target=\"_parent\"><img src=\"https://colab.research.google.com/assets/colab-badge.svg\" alt=\"Open In Colab\"/></a>"
      ]
    },
    {
      "cell_type": "code",
      "source": [
        "import numpy as np\n",
        "\n",
        "np.random.seed(50)\n",
        "def stepfunction(value):\n",
        "  return np.where(value>0,1,0)"
      ],
      "metadata": {
        "id": "bMghYHqfuELd"
      },
      "execution_count": 112,
      "outputs": []
    },
    {
      "cell_type": "code",
      "source": [
        "#Actual perceptron\n",
        "#Just call it by creating an object for Perceptron\n",
        "class Perceptron:\n",
        "  def __init__(self, l_rate, n_epochs):\n",
        "    self.epochs = n_epochs\n",
        "    self.rate = l_rate\n",
        "    self.weights = None\n",
        "    self.activ_function = stepfunction\n",
        "    self.bias = None\n",
        "\n",
        "  def train(self,X,Y):\n",
        "    n_samples, n_features = X.shape #returns (len_dataset, n_features)\n",
        "    self.weights = np.random.rand(1,n_features)\n",
        "    self.bias = 0.01\n",
        "    labels_input = np.where(Y>0,1,0)\n",
        "    for _ in range(self.epochs):\n",
        "      for idx,x_i in enumerate(X):\n",
        "        linear_output = np.dot(x_i, self.weights.T)+self.bias\n",
        "        y_pred = self.activ_function(linear_output)\n",
        "\n",
        "        #update the weights and bias\n",
        "        self.weights += (labels_input[idx] - y_pred)*self.rate*x_i\n",
        "        self.bias += (labels_input[idx] - y_pred)*self.rate\n",
        "    return self.weights\n",
        "  #for prediction of test data\n",
        "  def predict(self, test_data):\n",
        "    output = np.dot(test_data, self.weights.T) + self.bias\n",
        "    ypred = self.activ_function(output)\n",
        "    return ypred.flatten()"
      ],
      "metadata": {
        "id": "qd2oE3y2uIMN"
      },
      "execution_count": 113,
      "outputs": []
    },
    {
      "cell_type": "code",
      "source": [
        "#test the perceptron\n",
        "data = []\n",
        "for _ in range(100):\n",
        "  temp = np.random.rand(5)\n",
        "  data.append(temp)\n",
        "input_data = np.array(data)\n",
        "input_labels = np.round(np.random.rand(100))"
      ],
      "metadata": {
        "id": "Dd0O2AyOxbfB"
      },
      "execution_count": 114,
      "outputs": []
    },
    {
      "cell_type": "code",
      "source": [
        "#obj for class\n",
        "\n",
        "p = Perceptron(l_rate=0.01, n_epochs=1000)\n",
        "p.train(input_data, input_labels)\n",
        "\n",
        "#predicted = p.predict(test)"
      ],
      "metadata": {
        "colab": {
          "base_uri": "https://localhost:8080/"
        },
        "id": "W_rg3DpC15ag",
        "outputId": "b227b52b-b62e-4067-80b4-54948ae739c7"
      },
      "execution_count": 115,
      "outputs": [
        {
          "output_type": "execute_result",
          "data": {
            "text/plain": [
              "array([[ 0.00698276, -0.01202013,  0.00482969,  0.00841049, -0.00997503]])"
            ]
          },
          "metadata": {},
          "execution_count": 115
        }
      ]
    },
    {
      "cell_type": "code",
      "source": [
        "predicted_labels = p.predict(np.array(input_data[:50,:]))"
      ],
      "metadata": {
        "id": "w3Gslq_J3qx3"
      },
      "execution_count": 116,
      "outputs": []
    },
    {
      "cell_type": "code",
      "source": [
        "\n",
        "print(f'Predicted labels: {predicted_labels}')\n",
        "print(f'Actual labels: {input_labels[:50,]}')"
      ],
      "metadata": {
        "colab": {
          "base_uri": "https://localhost:8080/"
        },
        "id": "El_LxjLZ33pX",
        "outputId": "58d116aa-d1a7-438f-f82a-5e4c8e8a2847"
      },
      "execution_count": 117,
      "outputs": [
        {
          "output_type": "stream",
          "name": "stdout",
          "text": [
            "Predicted labels: [1 1 0 1 0 0 0 1 0 1 0 1 0 1 0 0 0 0 0 1 1 0 1 0 1 1 1 0 0 0 0 1 0 0 1 1 1\n",
            " 0 0 0 1 1 1 1 0 0 1 1 1 0]\n",
            "Actual labels: [1. 1. 0. 1. 1. 1. 0. 0. 1. 1. 1. 0. 1. 0. 0. 0. 1. 0. 0. 0. 0. 1. 1. 0.\n",
            " 1. 1. 0. 0. 1. 0. 0. 1. 1. 0. 1. 0. 0. 0. 0. 0. 1. 1. 0. 1. 0. 0. 0. 0.\n",
            " 1. 0.]\n"
          ]
        }
      ]
    },
    {
      "cell_type": "code",
      "source": [
        "predicted_labels.shape"
      ],
      "metadata": {
        "colab": {
          "base_uri": "https://localhost:8080/"
        },
        "id": "cMCIlcr4ff02",
        "outputId": "163008ee-4dc1-4023-94f8-168480aca97d"
      },
      "execution_count": 118,
      "outputs": [
        {
          "output_type": "execute_result",
          "data": {
            "text/plain": [
              "(50,)"
            ]
          },
          "metadata": {},
          "execution_count": 118
        }
      ]
    },
    {
      "cell_type": "code",
      "source": [
        "input_labels[:50,].shape"
      ],
      "metadata": {
        "colab": {
          "base_uri": "https://localhost:8080/"
        },
        "id": "zUdLTojyflJe",
        "outputId": "ac30648a-121c-4be6-fcb5-8ab82b580d87"
      },
      "execution_count": 119,
      "outputs": [
        {
          "output_type": "execute_result",
          "data": {
            "text/plain": [
              "(50,)"
            ]
          },
          "metadata": {},
          "execution_count": 119
        }
      ]
    },
    {
      "cell_type": "code",
      "source": [
        "import matplotlib.pyplot as plt\n",
        "import seaborn as sns\n",
        "from sklearn.metrics import confusion_matrix\n",
        "\n",
        "# Assuming predicted_labels and input_labels are defined and contain the appropriate data\n",
        "\n",
        "# Calculate confusion matrix\n",
        "conf_matrix = confusion_matrix(input_labels[:50,], predicted_labels)\n",
        "\n",
        "# Plot confusion matrix\n",
        "sns.heatmap(conf_matrix, annot=True, cmap='Greens', fmt='d')\n",
        "plt.xlabel('Predicted Labels')\n",
        "plt.ylabel('True Labels')\n",
        "plt.title('Confusion Matrix')\n",
        "plt.show()\n"
      ],
      "metadata": {
        "colab": {
          "base_uri": "https://localhost:8080/",
          "height": 472
        },
        "id": "MJJu5kX-tNFB",
        "outputId": "4bfa0f59-616d-447d-efeb-a81b57331016"
      },
      "execution_count": 123,
      "outputs": [
        {
          "output_type": "display_data",
          "data": {
            "text/plain": [
              "<Figure size 640x480 with 2 Axes>"
            ],
            "image/png": "[encoded data removed]"
          },
          "metadata": {}
        }
      ]
    }
  ]
}